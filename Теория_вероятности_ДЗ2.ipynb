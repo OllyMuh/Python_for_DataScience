{
  "nbformat": 4,
  "nbformat_minor": 0,
  "metadata": {
    "colab": {
      "provenance": [],
      "collapsed_sections": [],
      "mount_file_id": "1M_Gzd7WV9biNvqe7snIvAiyOH103qUsy",
      "authorship_tag": "ABX9TyNmoZ/Tq0ucuDbXVEpAdqga",
      "include_colab_link": true
    },
    "kernelspec": {
      "name": "python3",
      "display_name": "Python 3"
    },
    "language_info": {
      "name": "python"
    }
  },
  "cells": [
    {
      "cell_type": "markdown",
      "metadata": {
        "id": "view-in-github",
        "colab_type": "text"
      },
      "source": [
        "<a href=\"https://colab.research.google.com/github/OllyMuh/Python_for_DataScience/blob/main/%D0%A2%D0%B5%D0%BE%D1%80%D0%B8%D1%8F_%D0%B2%D0%B5%D1%80%D0%BE%D1%8F%D1%82%D0%BD%D0%BE%D1%81%D1%82%D0%B8_%D0%94%D0%972.ipynb\" target=\"_parent\"><img src=\"https://colab.research.google.com/assets/colab-badge.svg\" alt=\"Open In Colab\"/></a>"
      ]
    },
    {
      "cell_type": "markdown",
      "source": [
        "# Задача 1\n",
        "\n",
        "Контрольная работа состоит из пяти вопросов. На каждый вопрос приведено четыре варианта ответа, один из которых правильный. Составьте закон распределения числа правильных ответов при простом угадывании. Найдите M(X), D(X)"
      ],
      "metadata": {
        "id": "yuJmC2kOHfQx"
      }
    },
    {
      "cell_type": "code",
      "source": [
        "# Биномиальный закон распределения — это закон распределения числа  X=k  наступлений события  A  в  n  независимых испытаниях, в каждом из которых оно может произойти с вероятностью  p .\n",
        "# Число наступления события — это дискретная величина из отрезка [0, n]. Вероятности возможных значений этой величины определяются по формуле Бернулли:\n",
        "# M(X)=np  D(X)=npq\n",
        "\n",
        "from math import factorial\n",
        "\n",
        "def combinations(n, k):\n",
        "  return factorial(n) / (factorial(k) * (factorial(n-k)))"
      ],
      "metadata": {
        "id": "DsEnaBdATcT0"
      },
      "execution_count": null,
      "outputs": []
    },
    {
      "cell_type": "code",
      "source": [],
      "metadata": {
        "id": "n-eOu9dhSOlP"
      },
      "execution_count": null,
      "outputs": []
    },
    {
      "cell_type": "code",
      "source": [
        "# вопросов 5\n",
        "n = 5\n",
        "# вероятность угадать ответ = 1 / 4 - один из 4 правильный\n",
        "p = 1 / 4\n",
        "# вероятность не угадать ответ\n",
        "q = 3 / 4\n",
        "#  c помощью формулы Бернулли вычисляем вероятности количества правильных ответов в контрольной\n",
        "# 0 правильных ответов из 5\n",
        "P_0 = combinations(5, 0) * (p ** 0) * (q**(5-0))\n",
        "# 1 правильный ответ из 5\n",
        "P_1 = combinations(5, 1) * (p ** 1) * (q**(5-1))\n",
        "# 2 правильных ответа из 5\n",
        "P_2 = combinations(5, 2) * (p ** 2) * (q**(5-2))\n",
        "# 3 правильных ответа из 5\n",
        "P_3 = combinations(5, 3) * (p ** 3) * (q**(5-3))\n",
        "# 4 правильных ответа из 5\n",
        "P_4 = combinations(5, 4) * (p ** 4) * (q**(5-4))\n",
        "# 5 правильных ответов из 5\n",
        "P_5 = combinations(5, 5) * (p ** 5) * (q**(5-5))\n",
        "P_0, P_1, P_2, P_3, P_4, P_5"
      ],
      "metadata": {
        "colab": {
          "base_uri": "https://localhost:8080/"
        },
        "id": "Ui2ZT5RxhrU4",
        "outputId": "137eda91-72e7-4f17-832d-1344ba606cf4"
      },
      "execution_count": null,
      "outputs": [
        {
          "output_type": "execute_result",
          "data": {
            "text/plain": [
              "(0.2373046875,\n",
              " 0.3955078125,\n",
              " 0.263671875,\n",
              " 0.087890625,\n",
              " 0.0146484375,\n",
              " 0.0009765625)"
            ]
          },
          "metadata": {},
          "execution_count": 2
        }
      ]
    },
    {
      "cell_type": "code",
      "source": [
        "# математическое ожидание количества угаданных вопросов контрольной\n",
        "M5 = n * p\n",
        "M5"
      ],
      "metadata": {
        "colab": {
          "base_uri": "https://localhost:8080/"
        },
        "id": "mEppcLzKlFmt",
        "outputId": "f8b0f319-ea0b-41f5-b58f-33ff661966d2"
      },
      "execution_count": null,
      "outputs": [
        {
          "output_type": "execute_result",
          "data": {
            "text/plain": [
              "1.25"
            ]
          },
          "metadata": {},
          "execution_count": 3
        }
      ]
    },
    {
      "cell_type": "code",
      "source": [
        "# дисперсия\n",
        "D5 = n * p * q\n",
        "D5"
      ],
      "metadata": {
        "colab": {
          "base_uri": "https://localhost:8080/"
        },
        "id": "eU8BkVyMlV_w",
        "outputId": "3a9898c3-65c8-461f-e2b1-b1e67f2f1995"
      },
      "execution_count": null,
      "outputs": [
        {
          "output_type": "execute_result",
          "data": {
            "text/plain": [
              "0.9375"
            ]
          },
          "metadata": {},
          "execution_count": 4
        }
      ]
    },
    {
      "cell_type": "markdown",
      "source": [
        "# Задача 2\n",
        "\n",
        "Вероятность попадания в цель при одном выстреле равна 0.01. Какова вероятность того, что число попаданий при 200 выстрелах будет не менее 5 и не более 10?"
      ],
      "metadata": {
        "id": "1X-GHwh0UxXu"
      }
    },
    {
      "cell_type": "code",
      "execution_count": null,
      "metadata": {
        "id": "AceTw8R3G0oY"
      },
      "outputs": [],
      "source": [
        "# Так как вероятность p=0,01 очень мала, а число выстрелов (опытов) достаточно велико, то искомую вероятность будем находить, используя формулу Пуассона\n",
        "p = 0.01\n",
        "n = 200"
      ]
    },
    {
      "cell_type": "code",
      "source": [
        "import numpy as np\n",
        "\n",
        "lambda_ = n * p\n",
        "\n",
        "def puasson_p(m, lambda_):\n",
        "  return (lambda_**m / np.math.factorial(m)) * np.exp(-lambda_)"
      ],
      "metadata": {
        "id": "3x3u43Kbmtz7"
      },
      "execution_count": null,
      "outputs": []
    },
    {
      "cell_type": "code",
      "source": [
        "P_5_10 = puasson_p(5, lambda_) + puasson_p(6, lambda_) + puasson_p(7, lambda_) + puasson_p(8, lambda_) + puasson_p(9, lambda_) + puasson_p(10, lambda_)\n",
        "P_5_10"
      ],
      "metadata": {
        "colab": {
          "base_uri": "https://localhost:8080/"
        },
        "id": "IUXsh9ygpIHZ",
        "outputId": "01dd01ab-6e49-4b18-a357-1ebf8c705084"
      },
      "execution_count": null,
      "outputs": [
        {
          "output_type": "execute_result",
          "data": {
            "text/plain": [
              "0.052644709119342686"
            ]
          },
          "metadata": {},
          "execution_count": 7
        }
      ]
    },
    {
      "cell_type": "markdown",
      "source": [
        "# Задача 3\n",
        "\n",
        "В условиях предыдущей задачи сколько выстрелов надо сделать, чтобы быть уверенным с вероятностью 0.9, что хотя бы 10 раз будет совершено попадание?\n",
        "\n",
        "Подсказка. Как посчитать P(X >= k) для величины X, имеющей распределение Пуассона? Здесь предстоит немного покодить."
      ],
      "metadata": {
        "id": "TywV8IQrU1Ws"
      }
    },
    {
      "cell_type": "code",
      "source": [
        "p2 = 0.9\n",
        "for i in range(10, 10000, 10):\n",
        "  lambda_ = i * p\n",
        "  q = 1 - (puasson_p(9, lambda_)+puasson_p(8, lambda_)+puasson_p(7, lambda_)+puasson_p(6, lambda_)+puasson_p(5, lambda_)+puasson_p(4, lambda_)+puasson_p(3, lambda_)+puasson_p(2, lambda_)+puasson_p(1, lambda_)+puasson_p(0, lambda_))\n",
        "# не знаю как решить"
      ],
      "metadata": {
        "id": "PAinAK-qU59p"
      },
      "execution_count": null,
      "outputs": []
    }
  ]
}