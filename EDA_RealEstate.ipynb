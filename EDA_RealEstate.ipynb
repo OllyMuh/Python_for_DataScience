{
  "nbformat": 4,
  "nbformat_minor": 0,
  "metadata": {
    "colab": {
      "name": "EDA_RealEstate.ipynb",
      "provenance": [],
      "collapsed_sections": [],
      "mount_file_id": "1BU0RHmBGVSHrJ048Zo5iiVGUmg4wZ_Sd",
      "authorship_tag": "ABX9TyPgUemdbsnqJ/SE8XY/UvLc",
      "include_colab_link": true
    },
    "kernelspec": {
      "name": "python3",
      "display_name": "Python 3"
    },
    "language_info": {
      "name": "python"
    }
  },
  "cells": [
    {
      "cell_type": "markdown",
      "metadata": {
        "id": "view-in-github",
        "colab_type": "text"
      },
      "source": [
        "<a href=\"https://colab.research.google.com/github/OllyMuh/Python_for_DataScience/blob/Real_Estate_Prices_Project/EDA_RealEstate.ipynb\" target=\"_parent\"><img src=\"https://colab.research.google.com/assets/colab-badge.svg\" alt=\"Open In Colab\"/></a>"
      ]
    },
    {
      "cell_type": "code",
      "source": [
        "import pandas as pd\n",
        "import numpy as np\n",
        "import matplotlib\n",
        "\n",
        "import matplotlib.image as img\n",
        "import matplotlib.pyplot as plt\n",
        "import seaborn as sns\n",
        "\n",
        "from scipy import stats\n",
        "\n",
        "%matplotlib inline\n",
        "\n",
        "# отключаем предупреждения\n",
        "import warnings\n",
        "warnings.filterwarnings('ignore')\n",
        "\n",
        "# пути к директориям и файлам\n",
        "DATASET_PATH = '/content/drive/MyDrive/train_prepared.csv'\n",
        "PREPARED_DATASET_PATH = '/content/drive/MyDrive/train_prepared_EDA.csv'"
      ],
      "metadata": {
        "id": "41vJ7obZrlZw"
      },
      "execution_count": 12,
      "outputs": []
    },
    {
      "cell_type": "code",
      "source": [
        "matplotlib.rcParams.update({'font.size': 14})"
      ],
      "metadata": {
        "id": "7K_kSBV_yUQZ"
      },
      "execution_count": 13,
      "outputs": []
    },
    {
      "cell_type": "code",
      "source": [
        "df = pd.read_csv(DATASET_PATH, sep=',')"
      ],
      "metadata": {
        "id": "m-HdNCJNwQ9i"
      },
      "execution_count": 3,
      "outputs": []
    },
    {
      "cell_type": "markdown",
      "source": [
        "**Оптимизируем объем используемой памяти** "
      ],
      "metadata": {
        "id": "n9zddoWIrbNV"
      }
    },
    {
      "cell_type": "code",
      "execution_count": 5,
      "metadata": {
        "id": "85N6BumHrVFU"
      },
      "outputs": [],
      "source": [
        "def reduce_mem_usage(df):\n",
        "  start_mem = df.memory_usage().sum() / 1024 ** 2\n",
        "  print(f'Memory usage is {start_mem} Mb')\n",
        "\n",
        "  for col in df.columns:\n",
        "    col_type = df[col].dtype\n",
        "\n",
        "    if col_type != object:\n",
        "      c_min = df[col].min()\n",
        "      c_max = df[col].max()\n",
        "      if str(col_type)[:3] == 'int':\n",
        "        if c_min > np.iinfo(np.int8).min and c_max < np.iinfo(np.int8).max:\n",
        "          df[col] = df[col].astype(np.int8)\n",
        "        elif c_min > np.iinfo(np.int16).min and c_max < np.iinfo(np.int16).max:\n",
        "          df[col] = df[col].astype(np.int16)\n",
        "        elif c_min > np.iinfo(np.int32).min and c_max < np.iinfo(np.int32).max:\n",
        "          df[col] = df[col].astype(np.int32)\n",
        "        elif c_min > np.iinfo(np.int64).min and c_max < np.iinfo(np.int64).max:\n",
        "          df[col] = df[col].astype(np.int64)\n",
        "      else:\n",
        "        if c_min > np.finfo(np.float32).min and c_max < np.finfo(np.float32).max:\n",
        "          df[col] = df[col].astype(np.float32)\n",
        "        else:\n",
        "          df[col] = df[col].astype(np.float64)\n",
        "    else:\n",
        "      df[col] = df[col].astype('category')\n",
        "  end_mem = df.memory_usage().sum() / 1024 **2\n",
        "  print(f'Memory usage after {end_mem} Mb')\n",
        "  return df"
      ]
    },
    {
      "cell_type": "code",
      "source": [
        "# reduce_mem_usage(df)\n",
        "df.dtypes"
      ],
      "metadata": {
        "id": "1OJ3esXUwNhm"
      },
      "execution_count": null,
      "outputs": []
    }
  ]
}